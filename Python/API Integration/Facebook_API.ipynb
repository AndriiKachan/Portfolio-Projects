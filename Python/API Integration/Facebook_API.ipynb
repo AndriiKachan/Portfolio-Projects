{
 "cells": [
  {
   "cell_type": "code",
   "execution_count": null,
   "metadata": {},
   "outputs": [],
   "source": [
    "import requests\n",
    "\n",
    "access_token = 'X'\n",
    "\n",
    "# Function to get user profile information\n",
    "def get_user_profile():\n",
    "    url = f'https://graph.facebook.com/v11.0/me?access_token={access_token}'\n",
    "    response = requests.get(url)\n",
    "    \n",
    "    if response.status_code == 200:\n",
    "        data = response.json()\n",
    "        print(f'Name: {data[\"name\"]}')\n",
    "        print(f'ID: {data[\"id\"]}')\n",
    "    else:\n",
    "        print(\"Error fetching user profile\")\n",
    "\n",
    "get_user_profile()\n"
   ]
  },
  {
   "cell_type": "code",
   "execution_count": 3,
   "metadata": {},
   "outputs": [],
   "source": [
    "import requests\n",
    "\n",
    "access_token = 'X'\n",
    "\n",
    "# Function to get user friends\n",
    "def get_user_friends():\n",
    "    url = f'https://graph.facebook.com/v11.0/me/friends?access_token={access_token}'\n",
    "    response = requests.get(url)\n",
    "    \n",
    "    if response.status_code == 200:\n",
    "        data = response.json()\n",
    "        for friend in data['data']:\n",
    "            print(f\"Friend Name: {friend['name']}\")\n",
    "    else:\n",
    "        print(\"Error fetching friends list\")\n",
    "\n",
    "get_user_friends()"
   ]
  },
  {
   "cell_type": "code",
   "execution_count": 5,
   "metadata": {},
   "outputs": [
    {
     "name": "stdout",
     "output_type": "stream",
     "text": [
      "{'data': []}\n"
     ]
    }
   ],
   "source": [
    "import requests\n",
    "\n",
    "access_token = 'X'\n",
    "\n",
    "# Function to get user friends\n",
    "def get_user_friends():\n",
    "    url = f'https://graph.facebook.com/v11.0/me/friends?access_token={access_token}'\n",
    "    response = requests.get(url)\n",
    "    \n",
    "    if response.status_code == 200:\n",
    "        data = response.json()\n",
    "        print(data)  # Print the raw JSON response\n",
    "        if 'data' in data:\n",
    "            for friend in data['data']:\n",
    "                print(f\"Friend Name: {friend['name']}\")\n",
    "        else:\n",
    "            print(\"No friends data found.\")\n",
    "    else:\n",
    "        print(f\"Error fetching friends list. Status code: {response.status_code}\")\n",
    "        print(response.json())  # Print the error message from the API\n",
    "\n",
    "get_user_friends()"
   ]
  },
  {
   "cell_type": "code",
   "execution_count": null,
   "metadata": {},
   "outputs": [],
   "source": [
    "import requests\n",
    "\n",
    "access_token = 'X'\n",
    "\n",
    "# Fetching Page Insights (likes, comments, shares)\n",
    "url = f'https://graph.facebook.com/v11.0/{page_id}/insights?access_token={access_token}'\n",
    "response = requests.get(url)\n",
    "data = response.json()\n",
    "\n",
    "for insight in data['data']:\n",
    "    print(f\"Metric: {insight['name']}\")\n",
    "    print(f\"Value: {insight['values'][0]['value']}\")"
   ]
  },
  {
   "cell_type": "code",
   "execution_count": null,
   "metadata": {},
   "outputs": [],
   "source": [
    "import requests\n",
    "\n",
    "access_token = 'X'\n",
    "\n",
    "# Get Campaign Details\n",
    "url = f'https://graph.facebook.com/v11.0/act_{ad_account_id}/campaigns?access_token={access_token}'\n",
    "response = requests.get(url)\n",
    "data = response.json()\n",
    "\n",
    "for campaign in data['data']:\n",
    "    print(f\"Campaign ID: {campaign['id']}\")\n",
    "    print(f\"Campaign Name: {campaign['name']}\")"
   ]
  },
  {
   "cell_type": "code",
   "execution_count": null,
   "metadata": {},
   "outputs": [],
   "source": [
    "import requests\n",
    "\n",
    "# Verify the webhook URL\n",
    "url = f'https://graph.facebook.com/v11.0/{app_id}/subscriptions'\n",
    "params = {\n",
    "    'object': 'page',\n",
    "    'callback_url': 'Z',\n",
    "    'fields': 'feed,comments',\n",
    "    'verify_token': 'Y',\n",
    "    'access_token': 'X'\n",
    "}\n",
    "\n",
    "response = requests.post(url, params=params)\n",
    "\n",
    "if response.status_code == 200:\n",
    "    print('Webhook subscription successful')\n",
    "else:\n",
    "    print(f\"Error: {response.json()}\")"
   ]
  },
  {
   "cell_type": "code",
   "execution_count": null,
   "metadata": {},
   "outputs": [],
   "source": [
    "import requests\n",
    "\n",
    "access_token = 'X'\n",
    "\n",
    "image_path = 'sample_image.jpg'\n",
    "\n",
    "# Uploading the image\n",
    "url = f'https://graph.facebook.com/v11.0/{page_id}/photos'\n",
    "files = {'file': open(image_path, 'rb')}\n",
    "data = {\n",
    "    'access_token': access_token,\n",
    "    'message': 'Check out this awesome image!'\n",
    "}\n",
    "response = requests.post(url, files=files, data=data)\n",
    "\n",
    "if response.status_code == 200:\n",
    "    print('Image uploaded successfully')\n",
    "else:\n",
    "    print(f\"Error: {response.json()}\")\n"
   ]
  },
  {
   "cell_type": "code",
   "execution_count": null,
   "metadata": {},
   "outputs": [],
   "source": [
    "import requests\n",
    "\n",
    "access_token = 'X'\n",
    "\n",
    "# Event Data\n",
    "data = {\n",
    "    'access_token': access_token,\n",
    "    'name': 'My Facebook Event',\n",
    "    'start_time': '2025-01-01T18:00:00',\n",
    "    'end_time': '2025-01-01T20:00:00',\n",
    "    'location': 'Online',\n",
    "    'description': 'Join us for a special event!'\n",
    "}\n",
    "\n",
    "url = f'https://graph.facebook.com/v11.0/{page_id}/events'\n",
    "response = requests.post(url, data=data)\n",
    "\n",
    "if response.status_code == 200:\n",
    "    print('Event created successfully')\n",
    "else:\n",
    "    print(f\"Error: {response.json()}\")"
   ]
  }
 ],
 "metadata": {
  "kernelspec": {
   "display_name": "base",
   "language": "python",
   "name": "python3"
  },
  "language_info": {
   "codemirror_mode": {
    "name": "ipython",
    "version": 3
   },
   "file_extension": ".py",
   "mimetype": "text/x-python",
   "name": "python",
   "nbconvert_exporter": "python",
   "pygments_lexer": "ipython3",
   "version": "3.12.7"
  }
 },
 "nbformat": 4,
 "nbformat_minor": 2
}
